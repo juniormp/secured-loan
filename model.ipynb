{
 "cells": [
  {
   "cell_type": "markdown",
   "metadata": {},
   "source": [
    "### Setup"
   ]
  },
  {
   "cell_type": "code",
   "execution_count": 42,
   "metadata": {},
   "outputs": [],
   "source": [
    "import pandas as pd\n",
    "import numpy as np\n",
    "import matplotlib.pyplot as plt\n",
    "%matplotlib inline\n",
    "import seaborn as sns\n",
    "from sklearn.linear_model import LogisticRegression\n",
    "from sklearn.model_selection import train_test_split\n",
    "from sklearn.metrics import jaccard_similarity_score, confusion_matrix, classification_report, log_loss, auc, roc_curve, accuracy_score\n",
    "from sklearn import preprocessing\n",
    "from sklearn.neighbors import KNeighborsClassifier\n",
    "from sklearn.feature_selection import RFECV\n",
    "\n",
    "import warnings\n",
    "warnings.filterwarnings('ignore')"
   ]
  },
  {
   "cell_type": "code",
   "execution_count": 31,
   "metadata": {},
   "outputs": [
    {
     "data": {
      "text/html": [
       "<div>\n",
       "<style scoped>\n",
       "    .dataframe tbody tr th:only-of-type {\n",
       "        vertical-align: middle;\n",
       "    }\n",
       "\n",
       "    .dataframe tbody tr th {\n",
       "        vertical-align: top;\n",
       "    }\n",
       "\n",
       "    .dataframe thead th {\n",
       "        text-align: right;\n",
       "    }\n",
       "</style>\n",
       "<table border=\"1\" class=\"dataframe\">\n",
       "  <thead>\n",
       "    <tr style=\"text-align: right;\">\n",
       "      <th></th>\n",
       "      <th>id</th>\n",
       "      <th>age</th>\n",
       "      <th>monthly_income</th>\n",
       "      <th>collateral_value</th>\n",
       "      <th>loan_amount</th>\n",
       "      <th>state</th>\n",
       "      <th>collateral_debt</th>\n",
       "      <th>verified_restriction</th>\n",
       "      <th>dishonored_checks</th>\n",
       "      <th>expired_debts</th>\n",
       "      <th>...</th>\n",
       "      <th>pre_approved</th>\n",
       "      <th>form_completed</th>\n",
       "      <th>sent_to_analysis</th>\n",
       "      <th>channel</th>\n",
       "      <th>zip_code</th>\n",
       "      <th>landing_page</th>\n",
       "      <th>landing_page_product</th>\n",
       "      <th>gender</th>\n",
       "      <th>utm_term</th>\n",
       "      <th>education_level</th>\n",
       "    </tr>\n",
       "  </thead>\n",
       "  <tbody>\n",
       "    <tr>\n",
       "      <th>0</th>\n",
       "      <td>173460</td>\n",
       "      <td>52</td>\n",
       "      <td>5668.0</td>\n",
       "      <td>24000.0</td>\n",
       "      <td>5000.0</td>\n",
       "      <td>SP</td>\n",
       "      <td>900.0</td>\n",
       "      <td>0.0</td>\n",
       "      <td>0</td>\n",
       "      <td>0</td>\n",
       "      <td>...</td>\n",
       "      <td>1</td>\n",
       "      <td>0</td>\n",
       "      <td>0</td>\n",
       "      <td>search</td>\n",
       "      <td>4028XXXX</td>\n",
       "      <td>/emprestimos/solicitar</td>\n",
       "      <td>PersonalLoan</td>\n",
       "      <td>female</td>\n",
       "      <td>NaN</td>\n",
       "      <td>Ensino médio completo (antigo 2º grau, secundá...</td>\n",
       "    </tr>\n",
       "    <tr>\n",
       "      <th>1</th>\n",
       "      <td>173455</td>\n",
       "      <td>20</td>\n",
       "      <td>5000.0</td>\n",
       "      <td>14200.0</td>\n",
       "      <td>5000.0</td>\n",
       "      <td>SP</td>\n",
       "      <td>1500.0</td>\n",
       "      <td>0.0</td>\n",
       "      <td>0</td>\n",
       "      <td>0</td>\n",
       "      <td>...</td>\n",
       "      <td>1</td>\n",
       "      <td>0</td>\n",
       "      <td>0</td>\n",
       "      <td>direct</td>\n",
       "      <td>7060XXXX</td>\n",
       "      <td>/emprestimos</td>\n",
       "      <td>NaN</td>\n",
       "      <td>male</td>\n",
       "      <td>NaN</td>\n",
       "      <td>Ensino médio completo (antigo 2º grau, secundá...</td>\n",
       "    </tr>\n",
       "  </tbody>\n",
       "</table>\n",
       "<p>2 rows × 31 columns</p>\n",
       "</div>"
      ],
      "text/plain": [
       "       id  age  monthly_income  collateral_value  loan_amount state  \\\n",
       "0  173460   52          5668.0           24000.0       5000.0    SP   \n",
       "1  173455   20          5000.0           14200.0       5000.0    SP   \n",
       "\n",
       "   collateral_debt  verified_restriction  dishonored_checks  expired_debts  \\\n",
       "0            900.0                   0.0                  0              0   \n",
       "1           1500.0                   0.0                  0              0   \n",
       "\n",
       "   ...  pre_approved  form_completed  sent_to_analysis channel  zip_code  \\\n",
       "0  ...             1               0                 0  search  4028XXXX   \n",
       "1  ...             1               0                 0  direct  7060XXXX   \n",
       "\n",
       "             landing_page  landing_page_product  gender utm_term  \\\n",
       "0  /emprestimos/solicitar          PersonalLoan  female      NaN   \n",
       "1            /emprestimos                   NaN    male      NaN   \n",
       "\n",
       "                                     education_level  \n",
       "0  Ensino médio completo (antigo 2º grau, secundá...  \n",
       "1  Ensino médio completo (antigo 2º grau, secundá...  \n",
       "\n",
       "[2 rows x 31 columns]"
      ]
     },
     "execution_count": 31,
     "metadata": {},
     "output_type": "execute_result"
    }
   ],
   "source": [
    "data = pd.read_csv('data/clean_data.csv')\n",
    "\n",
    "data.head(2)"
   ]
  },
  {
   "cell_type": "markdown",
   "metadata": {},
   "source": [
    "### Model - Logistic Regression"
   ]
  },
  {
   "cell_type": "markdown",
   "metadata": {},
   "source": [
    "<b>Train and Test</b>"
   ]
  },
  {
   "cell_type": "code",
   "execution_count": 97,
   "metadata": {},
   "outputs": [
    {
     "data": {
      "text/plain": [
       "Index(['id', 'age', 'monthly_income', 'collateral_value', 'loan_amount',\n",
       "       'state', 'collateral_debt', 'verified_restriction', 'dishonored_checks',\n",
       "       'expired_debts', 'banking_debts', 'commercial_debts', 'protests',\n",
       "       'marital_status', 'informed_restriction', 'loan_term',\n",
       "       'monthly_payment', 'informed_purpose', 'auto_brand', 'auto_model',\n",
       "       'auto_year', 'pre_approved', 'form_completed', 'sent_to_analysis',\n",
       "       'channel', 'zip_code', 'landing_page', 'landing_page_product', 'gender',\n",
       "       'utm_term', 'education_level'],\n",
       "      dtype='object')"
      ]
     },
     "execution_count": 97,
     "metadata": {},
     "output_type": "execute_result"
    }
   ],
   "source": [
    "data.columns"
   ]
  },
  {
   "cell_type": "code",
   "execution_count": 135,
   "metadata": {},
   "outputs": [
    {
     "name": "stdout",
     "output_type": "stream",
     "text": [
      "Train samples:  9340\n",
      "Test samples:  2335\n"
     ]
    }
   ],
   "source": [
    "x = data[['loan_amount', 'monthly_income', 'monthly_payment', 'form_completed', 'verified_restriction', 'age', 'auto_year', 'protests', 'expired_debts']]\n",
    "y = data['sent_to_analysis']\n",
    "\n",
    "x = preprocessing.StandardScaler().fit(x).transform(x)\n",
    "\n",
    "x_train, x_test, y_train, y_test = train_test_split(x, y, test_size=0.20, random_state=5)\n",
    "\n",
    "print('Train samples: ', x_train.shape[0])\n",
    "print('Test samples: ', x_test.shape[0])"
   ]
  },
  {
   "cell_type": "markdown",
   "metadata": {},
   "source": [
    "<b>Recursive Feature Elimination Cross Validation</b>"
   ]
  },
  {
   "cell_type": "code",
   "execution_count": 136,
   "metadata": {},
   "outputs": [
    {
     "data": {
      "image/png": "[encoded data removed]",
      "text/plain": [
       "<Figure size 720x432 with 1 Axes>"
      ]
     },
     "metadata": {
      "needs_background": "light"
     },
     "output_type": "display_data"
    },
    {
     "name": "stdout",
     "output_type": "stream",
     "text": [
      "Optimal number of features: 7\n",
      "Selected features: [ True  True  True  True  True  True False False  True]\n"
     ]
    }
   ],
   "source": [
    "rfecv = RFECV(estimator=LogisticRegression(), step=1, cv=10, scoring='accuracy')\n",
    "rfecv.fit(x, y)\n",
    "\n",
    "# Plot number of features VS. cross-validation scores\n",
    "plt.figure(figsize=(10,6))\n",
    "plt.xlabel(\"Number of features selected\")\n",
    "plt.ylabel(\"Cross validation score (nb of correct classifications)\")\n",
    "plt.plot(range(1, len(rfecv.grid_scores_) + 1), rfecv.grid_scores_)\n",
    "plt.show()\n",
    "\n",
    "print(\"Optimal number of features: %d\" % rfecv.n_features_)\n",
    "print('Selected features: %s' %  rfecv.support_)"
   ]
  },
  {
   "cell_type": "markdown",
   "metadata": {},
   "source": [
    "<b>Model</b>"
   ]
  },
  {
   "cell_type": "code",
   "execution_count": 124,
   "metadata": {},
   "outputs": [],
   "source": [
    "log_regression = LogisticRegression()\n",
    "log_regression.fit(x_train, y_train)\n",
    "\n",
    "yhat = log_regression.predict(x_test)\n",
    "yhat_probability = log_regression.predict_proba(x_test)"
   ]
  },
  {
   "cell_type": "markdown",
   "metadata": {},
   "source": [
    "<b>Evaluation</b>"
   ]
  },
  {
   "cell_type": "code",
   "execution_count": 125,
   "metadata": {},
   "outputs": [
    {
     "name": "stdout",
     "output_type": "stream",
     "text": [
      "Train set Accuracy:  0.800321199143469\n",
      "Test set Accuracy:  0.7940042826552463\n"
     ]
    }
   ],
   "source": [
    "print(\"Train set Accuracy: \", accuracy_score(y_train, log_regression.predict(x_train)))\n",
    "print(\"Test set Accuracy: \", accuracy_score(y_test, yhat))"
   ]
  },
  {
   "cell_type": "code",
   "execution_count": 126,
   "metadata": {},
   "outputs": [
    {
     "data": {
      "text/plain": [
       "0.4560186742975466"
      ]
     },
     "execution_count": 126,
     "metadata": {},
     "output_type": "execute_result"
    }
   ],
   "source": [
    "log_loss(y_test, yhat_probability)"
   ]
  },
  {
   "cell_type": "code",
   "execution_count": 127,
   "metadata": {},
   "outputs": [
    {
     "data": {
      "image/png": "[encoded data removed]",
      "text/plain": [
       "<Figure size 432x288 with 2 Axes>"
      ]
     },
     "metadata": {
      "needs_background": "light"
     },
     "output_type": "display_data"
    },
    {
     "name": "stdout",
     "output_type": "stream",
     "text": [
      "              precision    recall  f1-score   support\n",
      "\n",
      "           0       0.80      0.98      0.88      1846\n",
      "           1       0.54      0.10      0.17       489\n",
      "\n",
      "   micro avg       0.79      0.79      0.79      2335\n",
      "   macro avg       0.67      0.54      0.53      2335\n",
      "weighted avg       0.75      0.79      0.73      2335\n",
      "\n"
     ]
    },
    {
     "data": {
      "text/plain": [
       "array([[1803,   43],\n",
       "       [ 438,   51]], dtype=int64)"
      ]
     },
     "execution_count": 127,
     "metadata": {},
     "output_type": "execute_result"
    }
   ],
   "source": [
    "con_matrix = confusion_matrix(y_test, yhat)\n",
    "\n",
    "sns.heatmap(con_matrix,\n",
    "            annot=True,\n",
    "            cmap=\"Blues\")\n",
    "plt.title('SVM Linear Kernel \\nAccuracy:{0:.3f}'.format(accuracy_score(y_test, yhat)))\n",
    "plt.ylabel('True label')\n",
    "plt.xlabel('Predicted label')\n",
    "plt.show()\n",
    "\n",
    "print (classification_report(y_test, yhat))\n",
    "\n",
    "con_matrix"
   ]
  }
 ],
 "metadata": {
  "kernelspec": {
   "display_name": "Python 3",
   "language": "python",
   "name": "python3"
  },
  "language_info": {
   "codemirror_mode": {
    "name": "ipython",
    "version": 3
   },
   "file_extension": ".py",
   "mimetype": "text/x-python",
   "name": "python",
   "nbconvert_exporter": "python",
   "pygments_lexer": "ipython3",
   "version": "3.7.3"
  }
 },
 "nbformat": 4,
 "nbformat_minor": 2
}
